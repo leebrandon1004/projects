{
 "cells": [
  {
   "cell_type": "markdown",
   "id": "be02a957-7133-4d02-818e-fedeb3cecb05",
   "metadata": {},
   "source": [
    "# Project 01 -- [Brandon] [Lee]"
   ]
  },
  {
   "cell_type": "raw",
   "id": "bbdc993c-e7d1-4891-9590-5fd75cf2f18b",
   "metadata": {},
   "source": [
    "**TA Help:** N/A\n",
    "    \n",
    "**Collaboration:** N/A"
   ]
  },
  {
   "cell_type": "markdown",
   "id": "6180e742-8e39-4698-98ff-5b00c8cf8ea0",
   "metadata": {},
   "source": [
    "## Question 1"
   ]
  },
  {
   "cell_type": "code",
   "execution_count": 1,
   "id": "49445606-d363-41b4-b479-e319a9a84c01",
   "metadata": {
    "tags": []
   },
   "outputs": [
    {
     "name": "stdout",
     "output_type": "stream",
     "text": [
      "17\n"
     ]
    }
   ],
   "source": [
    "print(7+10)"
   ]
  },
  {
   "cell_type": "code",
   "execution_count": null,
   "id": "742eaf02-e230-4642-8068-6075d532d8bd",
   "metadata": {},
   "outputs": [],
   "source": [
    "# This adds 7 and 10 which results in 17"
   ]
  },
  {
   "cell_type": "markdown",
   "id": "b456e57c-4a12-464b-999a-ef2df5af80c1",
   "metadata": {},
   "source": [
    "Markdown notes and sentences and analysis written here."
   ]
  },
  {
   "cell_type": "markdown",
   "id": "fc601975-35ed-4680-a4e1-0273ee3cc047",
   "metadata": {},
   "source": [
    "## Question 2"
   ]
  },
  {
   "cell_type": "code",
   "execution_count": null,
   "id": "a16336a1-1ef0-41e8-bc7c-49387db27497",
   "metadata": {},
   "outputs": [],
   "source": [
    "#Learned how to store data into lists"
   ]
  },
  {
   "cell_type": "code",
   "execution_count": 6,
   "id": "95a43f27-039d-41c0-b0b1-e292f02e162d",
   "metadata": {},
   "outputs": [],
   "source": [
    "my_list = [1, 2, 3]"
   ]
  },
  {
   "cell_type": "code",
   "execution_count": 7,
   "id": "85246d25-4755-494d-ae8b-9d51d7ac57b3",
   "metadata": {},
   "outputs": [
    {
     "data": {
      "text/plain": [
       "[1, 2, 3]"
      ]
     },
     "execution_count": 7,
     "metadata": {},
     "output_type": "execute_result"
    }
   ],
   "source": [
    "my_list"
   ]
  },
  {
   "cell_type": "code",
   "execution_count": 8,
   "id": "03776ce8-8647-46d4-be4a-e966350c961e",
   "metadata": {},
   "outputs": [
    {
     "name": "stdout",
     "output_type": "stream",
     "text": [
      "My list is: [1, 2, 3]\n"
     ]
    }
   ],
   "source": [
    "print(f'My list is: {my_list}')"
   ]
  },
  {
   "cell_type": "code",
   "execution_count": 9,
   "id": "dfb7648a-7fae-4349-af85-d2779c8c042f",
   "metadata": {},
   "outputs": [],
   "source": [
    "#Part 1"
   ]
  },
  {
   "cell_type": "code",
   "execution_count": 10,
   "id": "f2836571-1f42-4d82-946f-a5cf29b19e71",
   "metadata": {},
   "outputs": [],
   "source": [
    "x = 6"
   ]
  },
  {
   "cell_type": "code",
   "execution_count": 11,
   "id": "382ea19c-4a4e-49a4-9c63-ab5888aab3d2",
   "metadata": {},
   "outputs": [],
   "source": [
    "y = 8"
   ]
  },
  {
   "cell_type": "code",
   "execution_count": 12,
   "id": "766a3783-ea96-4c10-945b-20fc0f257ff0",
   "metadata": {},
   "outputs": [],
   "source": [
    "z = x * y"
   ]
  },
  {
   "cell_type": "code",
   "execution_count": 13,
   "id": "ac9d58aa-63e7-4ce2-8555-f7b6bbd3d382",
   "metadata": {},
   "outputs": [
    {
     "name": "stdout",
     "output_type": "stream",
     "text": [
      "48\n"
     ]
    }
   ],
   "source": [
    "print(z)"
   ]
  },
  {
   "cell_type": "code",
   "execution_count": 14,
   "id": "7688e1dd-620c-4104-aef7-998772b84b5f",
   "metadata": {},
   "outputs": [],
   "source": [
    "#Part 2"
   ]
  },
  {
   "cell_type": "code",
   "execution_count": 15,
   "id": "70668421-382a-4f09-b13e-26d78190740e",
   "metadata": {},
   "outputs": [],
   "source": [
    "x = z = y = 'peanutbutter'"
   ]
  },
  {
   "cell_type": "code",
   "execution_count": 17,
   "id": "3de6850b-a319-46a7-b852-a6525e1b85a0",
   "metadata": {},
   "outputs": [
    {
     "data": {
      "text/plain": [
       "'peanutbutter'"
      ]
     },
     "execution_count": 17,
     "metadata": {},
     "output_type": "execute_result"
    }
   ],
   "source": [
    "z"
   ]
  },
  {
   "cell_type": "code",
   "execution_count": null,
   "id": "bd0ce3cd-d587-4896-9836-67b1a41a5c8f",
   "metadata": {},
   "outputs": [],
   "source": [
    "#Part 3"
   ]
  },
  {
   "cell_type": "code",
   "execution_count": null,
   "id": "80dc7337-2970-4218-8fd7-0406cddf9565",
   "metadata": {},
   "outputs": [],
   "source": [
    "# Learned how to make a club sandwich from the site: https://en.wikipedia.org/wiki/Club_sandwich"
   ]
  },
  {
   "cell_type": "code",
   "execution_count": 16,
   "id": "494b75e7-715e-4af9-9782-8408bfbca88d",
   "metadata": {},
   "outputs": [],
   "source": [
    "club_sandwich = ['tomato', 'lettuce', 'bread', 'turkey', 'bacon', 'mayonnaise']"
   ]
  },
  {
   "cell_type": "code",
   "execution_count": 18,
   "id": "fdcfc072-6103-4e60-ad7b-48815b11f3ce",
   "metadata": {},
   "outputs": [
    {
     "data": {
      "text/plain": [
       "['tomato', 'lettuce', 'bread', 'turkey', 'bacon', 'mayonnaise']"
      ]
     },
     "execution_count": 18,
     "metadata": {},
     "output_type": "execute_result"
    }
   ],
   "source": [
    "club_sandwich"
   ]
  },
  {
   "cell_type": "markdown",
   "id": "14dc22d4-ddc3-41cc-a91a-cb0025bc0c80",
   "metadata": {},
   "source": [
    "Markdown notes and sentences and analysis written here."
   ]
  },
  {
   "cell_type": "markdown",
   "id": "8e586edd-ff26-4ce2-8f6b-2424b26f2929",
   "metadata": {},
   "source": [
    "## Question 3"
   ]
  },
  {
   "cell_type": "code",
   "execution_count": null,
   "id": "bbe0f40d-9655-4653-9ca8-886bdb61cb91",
   "metadata": {},
   "outputs": [],
   "source": [
    "# There are two cell tpes: Code and Markdown cells"
   ]
  },
  {
   "cell_type": "markdown",
   "id": "47c6229f-35f7-400c-8366-c442baa5cf47",
   "metadata": {},
   "source": [
    "Markdown notes and sentences and analysis written here."
   ]
  },
  {
   "cell_type": "markdown",
   "id": "da22f29c-d245-4d2b-9fc1-ca14cb6087d9",
   "metadata": {},
   "source": [
    "## Question 4"
   ]
  },
  {
   "cell_type": "code",
   "execution_count": 19,
   "id": "8cffc767-d1c8-4d64-b7dc-f0d2ee8a80d1",
   "metadata": {},
   "outputs": [],
   "source": [
    "#Import data set"
   ]
  },
  {
   "cell_type": "code",
   "execution_count": 20,
   "id": "d0ee0081-a837-4c37-931b-7f48d5ea3cff",
   "metadata": {},
   "outputs": [],
   "source": [
    "import pandas as pd"
   ]
  },
  {
   "cell_type": "code",
   "execution_count": 21,
   "id": "0bbf10d9-1747-400d-9df9-4f095ca7d0a3",
   "metadata": {},
   "outputs": [],
   "source": [
    "disney= pd.read_csv(\"/anvil/projects/tdm/data/disney/flight_of_passage.csv\")"
   ]
  },
  {
   "cell_type": "code",
   "execution_count": 22,
   "id": "0c60a1d5-a762-455a-910e-47a069f9fe23",
   "metadata": {},
   "outputs": [],
   "source": [
    "#Learned how to find the number of rows/columns from: https://sparkbyexamples.com/python/pandas-get-number-of-rows-examples/"
   ]
  },
  {
   "cell_type": "code",
   "execution_count": 23,
   "id": "801c2c84-859b-4ce0-a5e7-9b9c3473fc99",
   "metadata": {},
   "outputs": [],
   "source": [
    "#Number of rows in the data set"
   ]
  },
  {
   "cell_type": "code",
   "execution_count": 24,
   "id": "e2b3c947-7a85-4a86-b963-1e79717d8b36",
   "metadata": {},
   "outputs": [
    {
     "data": {
      "text/plain": [
       "184818"
      ]
     },
     "execution_count": 24,
     "metadata": {},
     "output_type": "execute_result"
    }
   ],
   "source": [
    "len(disney)"
   ]
  },
  {
   "cell_type": "code",
   "execution_count": 25,
   "id": "0f7230a8-dd6e-47cd-af53-f4c5f10398de",
   "metadata": {},
   "outputs": [],
   "source": [
    "#Number of columns in the data set"
   ]
  },
  {
   "cell_type": "code",
   "execution_count": 26,
   "id": "b5f8eb6d-8c8a-480d-9fc6-57e1e9107c47",
   "metadata": {},
   "outputs": [
    {
     "data": {
      "text/plain": [
       "4"
      ]
     },
     "execution_count": 26,
     "metadata": {},
     "output_type": "execute_result"
    }
   ],
   "source": [
    "len(disney.columns)"
   ]
  },
  {
   "cell_type": "code",
   "execution_count": 27,
   "id": "949abde9-0024-411f-94ca-aa5dce746e52",
   "metadata": {},
   "outputs": [],
   "source": [
    "#Beginning of the data set"
   ]
  },
  {
   "cell_type": "code",
   "execution_count": 28,
   "id": "e65088b2-8964-4e0d-9abc-1e25d6014869",
   "metadata": {},
   "outputs": [
    {
     "data": {
      "text/html": [
       "<div>\n",
       "<style scoped>\n",
       "    .dataframe tbody tr th:only-of-type {\n",
       "        vertical-align: middle;\n",
       "    }\n",
       "\n",
       "    .dataframe tbody tr th {\n",
       "        vertical-align: top;\n",
       "    }\n",
       "\n",
       "    .dataframe thead th {\n",
       "        text-align: right;\n",
       "    }\n",
       "</style>\n",
       "<table border=\"1\" class=\"dataframe\">\n",
       "  <thead>\n",
       "    <tr style=\"text-align: right;\">\n",
       "      <th></th>\n",
       "      <th>date</th>\n",
       "      <th>datetime</th>\n",
       "      <th>SACTMIN</th>\n",
       "      <th>SPOSTMIN</th>\n",
       "    </tr>\n",
       "  </thead>\n",
       "  <tbody>\n",
       "    <tr>\n",
       "      <th>0</th>\n",
       "      <td>05/26/2017</td>\n",
       "      <td>2017-05-26 09:06:38</td>\n",
       "      <td>NaN</td>\n",
       "      <td>-999.0</td>\n",
       "    </tr>\n",
       "    <tr>\n",
       "      <th>1</th>\n",
       "      <td>05/26/2017</td>\n",
       "      <td>2017-05-26 09:10:11</td>\n",
       "      <td>47.0</td>\n",
       "      <td>NaN</td>\n",
       "    </tr>\n",
       "    <tr>\n",
       "      <th>2</th>\n",
       "      <td>05/26/2017</td>\n",
       "      <td>2017-05-26 09:10:12</td>\n",
       "      <td>NaN</td>\n",
       "      <td>5.0</td>\n",
       "    </tr>\n",
       "    <tr>\n",
       "      <th>3</th>\n",
       "      <td>05/26/2017</td>\n",
       "      <td>2017-05-26 09:17:09</td>\n",
       "      <td>NaN</td>\n",
       "      <td>60.0</td>\n",
       "    </tr>\n",
       "    <tr>\n",
       "      <th>4</th>\n",
       "      <td>05/26/2017</td>\n",
       "      <td>2017-05-26 09:24:07</td>\n",
       "      <td>NaN</td>\n",
       "      <td>60.0</td>\n",
       "    </tr>\n",
       "  </tbody>\n",
       "</table>\n",
       "</div>"
      ],
      "text/plain": [
       "         date             datetime  SACTMIN  SPOSTMIN\n",
       "0  05/26/2017  2017-05-26 09:06:38      NaN    -999.0\n",
       "1  05/26/2017  2017-05-26 09:10:11     47.0       NaN\n",
       "2  05/26/2017  2017-05-26 09:10:12      NaN       5.0\n",
       "3  05/26/2017  2017-05-26 09:17:09      NaN      60.0\n",
       "4  05/26/2017  2017-05-26 09:24:07      NaN      60.0"
      ]
     },
     "execution_count": 28,
     "metadata": {},
     "output_type": "execute_result"
    }
   ],
   "source": [
    "disney.head()"
   ]
  },
  {
   "cell_type": "code",
   "execution_count": 29,
   "id": "08137d48-22a6-41f5-bcbb-09484fb8e243",
   "metadata": {},
   "outputs": [],
   "source": [
    "#Last of the data set"
   ]
  },
  {
   "cell_type": "code",
   "execution_count": 30,
   "id": "3a4784f7-9446-4870-9fd2-1861a8749a66",
   "metadata": {},
   "outputs": [
    {
     "data": {
      "text/html": [
       "<div>\n",
       "<style scoped>\n",
       "    .dataframe tbody tr th:only-of-type {\n",
       "        vertical-align: middle;\n",
       "    }\n",
       "\n",
       "    .dataframe tbody tr th {\n",
       "        vertical-align: top;\n",
       "    }\n",
       "\n",
       "    .dataframe thead th {\n",
       "        text-align: right;\n",
       "    }\n",
       "</style>\n",
       "<table border=\"1\" class=\"dataframe\">\n",
       "  <thead>\n",
       "    <tr style=\"text-align: right;\">\n",
       "      <th></th>\n",
       "      <th>date</th>\n",
       "      <th>datetime</th>\n",
       "      <th>SACTMIN</th>\n",
       "      <th>SPOSTMIN</th>\n",
       "    </tr>\n",
       "  </thead>\n",
       "  <tbody>\n",
       "    <tr>\n",
       "      <th>184813</th>\n",
       "      <td>12/28/2021</td>\n",
       "      <td>2021-12-28 19:35:47</td>\n",
       "      <td>NaN</td>\n",
       "      <td>90.0</td>\n",
       "    </tr>\n",
       "    <tr>\n",
       "      <th>184814</th>\n",
       "      <td>12/28/2021</td>\n",
       "      <td>2021-12-28 19:42:15</td>\n",
       "      <td>NaN</td>\n",
       "      <td>90.0</td>\n",
       "    </tr>\n",
       "    <tr>\n",
       "      <th>184815</th>\n",
       "      <td>12/28/2021</td>\n",
       "      <td>2021-12-28 19:48:15</td>\n",
       "      <td>NaN</td>\n",
       "      <td>90.0</td>\n",
       "    </tr>\n",
       "    <tr>\n",
       "      <th>184816</th>\n",
       "      <td>12/28/2021</td>\n",
       "      <td>2021-12-28 19:54:10</td>\n",
       "      <td>NaN</td>\n",
       "      <td>90.0</td>\n",
       "    </tr>\n",
       "    <tr>\n",
       "      <th>184817</th>\n",
       "      <td>12/28/2021</td>\n",
       "      <td>2021-12-28 19:58:35</td>\n",
       "      <td>NaN</td>\n",
       "      <td>80.0</td>\n",
       "    </tr>\n",
       "  </tbody>\n",
       "</table>\n",
       "</div>"
      ],
      "text/plain": [
       "              date             datetime  SACTMIN  SPOSTMIN\n",
       "184813  12/28/2021  2021-12-28 19:35:47      NaN      90.0\n",
       "184814  12/28/2021  2021-12-28 19:42:15      NaN      90.0\n",
       "184815  12/28/2021  2021-12-28 19:48:15      NaN      90.0\n",
       "184816  12/28/2021  2021-12-28 19:54:10      NaN      90.0\n",
       "184817  12/28/2021  2021-12-28 19:58:35      NaN      80.0"
      ]
     },
     "execution_count": 30,
     "metadata": {},
     "output_type": "execute_result"
    }
   ],
   "source": [
    "disney.tail()"
   ]
  },
  {
   "cell_type": "markdown",
   "id": "0d552245-b4d6-474a-9cc9-fa7b8e674d55",
   "metadata": {},
   "source": [
    "Markdown notes and sentences and analysis written here."
   ]
  },
  {
   "cell_type": "markdown",
   "id": "88c9cdac-3e92-498f-83fa-e089bfc44ac8",
   "metadata": {},
   "source": [
    "## Question 5"
   ]
  },
  {
   "cell_type": "code",
   "execution_count": null,
   "id": "d370d7c9-06db-42b9-b75f-240481a5c491",
   "metadata": {},
   "outputs": [],
   "source": [
    "# Nothing to do here"
   ]
  },
  {
   "cell_type": "markdown",
   "id": "9fbf00fb-2418-460f-ae94-2a32b0c28952",
   "metadata": {},
   "source": [
    "Markdown notes and sentences and analysis written here."
   ]
  },
  {
   "cell_type": "markdown",
   "id": "f76442d6-d02e-4f26-b9d6-c3183e1d6929",
   "metadata": {},
   "source": [
    "## Pledge\n",
    "\n",
    "By submitting this work I hereby pledge that this is my own, personal work. I've acknowledged in the designated place at the top of this file all sources that I used to complete said work, including but not limited to: online resources, books, and electronic communications. I've noted all collaboration with fellow students and/or TA's. I did not copy or plagiarize another's work.\n",
    "\n",
    "> As a Boilermaker pursuing academic excellence, I pledge to be honest and true in all that I do. Accountable together – We are Purdue."
   ]
  }
 ],
 "metadata": {
  "kernelspec": {
   "display_name": "f2022-s2023",
   "language": "python",
   "name": "f2022-s2023"
  },
  "language_info": {
   "codemirror_mode": {
    "name": "ipython",
    "version": 3
   },
   "file_extension": ".py",
   "mimetype": "text/x-python",
   "name": "python",
   "nbconvert_exporter": "python",
   "pygments_lexer": "ipython3",
   "version": "3.10.7"
  }
 },
 "nbformat": 4,
 "nbformat_minor": 5
}
