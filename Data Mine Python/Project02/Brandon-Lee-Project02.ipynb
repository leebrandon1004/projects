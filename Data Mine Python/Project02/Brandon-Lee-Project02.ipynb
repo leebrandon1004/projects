{
 "cells": [
  {
   "cell_type": "markdown",
   "id": "be02a957-7133-4d02-818e-fedeb3cecb05",
   "metadata": {},
   "source": [
    "# Project 02 -- [Brandon] [Lee]"
   ]
  },
  {
   "cell_type": "markdown",
   "id": "a1228853-dd19-4ab2-89e0-0394d7d72de3",
   "metadata": {},
   "source": [
    "**TA Help:** N/A\n",
    "    \n",
    "**Collaboration:** N/A"
   ]
  },
  {
   "cell_type": "markdown",
   "id": "6180e742-8e39-4698-98ff-5b00c8cf8ea0",
   "metadata": {},
   "source": [
    "## Question 1"
   ]
  },
  {
   "cell_type": "code",
   "execution_count": 1,
   "id": "49445606-d363-41b4-b479-e319a9a84c01",
   "metadata": {},
   "outputs": [],
   "source": [
    "#Part a"
   ]
  },
  {
   "cell_type": "code",
   "execution_count": 2,
   "id": "fc75fa4f-db34-44d0-ac4e-d7be323d2eb5",
   "metadata": {},
   "outputs": [],
   "source": [
    "#Data given\n",
    "data = {\n",
    "    'shoes':['red', 'purple', 'red', 'purple', 'red', 'red', 'red'],\n",
    "    'hats': ['blue', 'blue', 'blue', 'white', 'white', 'blue', 'blue']\n",
    "}"
   ]
  },
  {
   "cell_type": "code",
   "execution_count": 3,
   "id": "642b68db-7ccd-4c15-a240-472302d241db",
   "metadata": {},
   "outputs": [],
   "source": [
    "#Result of data"
   ]
  },
  {
   "cell_type": "code",
   "execution_count": 4,
   "id": "aaaaaf13-d8fd-41ee-9ead-24d60ea3c124",
   "metadata": {},
   "outputs": [
    {
     "name": "stdout",
     "output_type": "stream",
     "text": [
      "{'shoes': ['red', 'purple', 'red', 'purple', 'red', 'red', 'red'], 'hats': ['blue', 'blue', 'blue', 'white', 'white', 'blue', 'blue']}\n"
     ]
    }
   ],
   "source": [
    "print(data)"
   ]
  },
  {
   "cell_type": "code",
   "execution_count": 5,
   "id": "fc84d35c-ea25-428b-be78-64f020d1da55",
   "metadata": {},
   "outputs": [],
   "source": [
    "#Import pandas for DataFrame"
   ]
  },
  {
   "cell_type": "code",
   "execution_count": 6,
   "id": "f4def5bc-8477-4e80-9746-5cc96323c258",
   "metadata": {},
   "outputs": [],
   "source": [
    "import pandas as pd"
   ]
  },
  {
   "cell_type": "code",
   "execution_count": 7,
   "id": "67cc0291-d941-49da-b4e5-f50c6d1be295",
   "metadata": {},
   "outputs": [],
   "source": [
    "#Part b and c"
   ]
  },
  {
   "cell_type": "code",
   "execution_count": 8,
   "id": "4c4d55e9-e0b6-4505-aaad-4ef5291cc3c8",
   "metadata": {},
   "outputs": [],
   "source": [
    "store = pd.DataFrame(data,index=['Jay', 'Mary',' Bill', 'Chris', 'Martha', 'Karen', 'Rob'])"
   ]
  },
  {
   "cell_type": "code",
   "execution_count": 9,
   "id": "30d36450-75ea-44fc-ba9d-cb44017e2499",
   "metadata": {},
   "outputs": [],
   "source": [
    "#Result of store"
   ]
  },
  {
   "cell_type": "code",
   "execution_count": 11,
   "id": "8f9bc7a2-c1ad-4221-ba30-bc33de13dddf",
   "metadata": {},
   "outputs": [
    {
     "data": {
      "text/html": [
       "<div>\n",
       "<style scoped>\n",
       "    .dataframe tbody tr th:only-of-type {\n",
       "        vertical-align: middle;\n",
       "    }\n",
       "\n",
       "    .dataframe tbody tr th {\n",
       "        vertical-align: top;\n",
       "    }\n",
       "\n",
       "    .dataframe thead th {\n",
       "        text-align: right;\n",
       "    }\n",
       "</style>\n",
       "<table border=\"1\" class=\"dataframe\">\n",
       "  <thead>\n",
       "    <tr style=\"text-align: right;\">\n",
       "      <th></th>\n",
       "      <th>shoes</th>\n",
       "      <th>hats</th>\n",
       "    </tr>\n",
       "  </thead>\n",
       "  <tbody>\n",
       "    <tr>\n",
       "      <th>Jay</th>\n",
       "      <td>red</td>\n",
       "      <td>blue</td>\n",
       "    </tr>\n",
       "    <tr>\n",
       "      <th>Mary</th>\n",
       "      <td>purple</td>\n",
       "      <td>blue</td>\n",
       "    </tr>\n",
       "    <tr>\n",
       "      <th>Bill</th>\n",
       "      <td>red</td>\n",
       "      <td>blue</td>\n",
       "    </tr>\n",
       "    <tr>\n",
       "      <th>Chris</th>\n",
       "      <td>purple</td>\n",
       "      <td>white</td>\n",
       "    </tr>\n",
       "    <tr>\n",
       "      <th>Martha</th>\n",
       "      <td>red</td>\n",
       "      <td>white</td>\n",
       "    </tr>\n",
       "    <tr>\n",
       "      <th>Karen</th>\n",
       "      <td>red</td>\n",
       "      <td>blue</td>\n",
       "    </tr>\n",
       "    <tr>\n",
       "      <th>Rob</th>\n",
       "      <td>red</td>\n",
       "      <td>blue</td>\n",
       "    </tr>\n",
       "  </tbody>\n",
       "</table>\n",
       "</div>"
      ],
      "text/plain": [
       "         shoes   hats\n",
       "Jay        red   blue\n",
       "Mary    purple   blue\n",
       " Bill      red   blue\n",
       "Chris   purple  white\n",
       "Martha     red  white\n",
       "Karen      red   blue\n",
       "Rob        red   blue"
      ]
     },
     "execution_count": 11,
     "metadata": {},
     "output_type": "execute_result"
    }
   ],
   "source": [
    "store"
   ]
  },
  {
   "cell_type": "markdown",
   "id": "b456e57c-4a12-464b-999a-ef2df5af80c1",
   "metadata": {},
   "source": [
    "Markdown notes and sentences and analysis written here."
   ]
  },
  {
   "cell_type": "markdown",
   "id": "fc601975-35ed-4680-a4e1-0273ee3cc047",
   "metadata": {},
   "source": [
    "## Question 2"
   ]
  },
  {
   "cell_type": "code",
   "execution_count": 12,
   "id": "a16336a1-1ef0-41e8-bc7c-49387db27497",
   "metadata": {},
   "outputs": [],
   "source": [
    "#Import dataset"
   ]
  },
  {
   "cell_type": "code",
   "execution_count": 13,
   "id": "fbe9675a-19c4-4620-ac9b-a3a72a8a5baa",
   "metadata": {},
   "outputs": [],
   "source": [
    "myDF = pd.read_csv(\"/anvil/projects/tdm/data/death_records/DeathRecords.csv\")"
   ]
  },
  {
   "cell_type": "code",
   "execution_count": 14,
   "id": "b68ce9e2-0eed-42f3-924b-5bda04fea5f1",
   "metadata": {},
   "outputs": [],
   "source": [
    "#Part a"
   ]
  },
  {
   "cell_type": "code",
   "execution_count": 15,
   "id": "7639e3fe-3aa8-4501-97b6-397e9cf550e7",
   "metadata": {},
   "outputs": [],
   "source": [
    "#11th row of data"
   ]
  },
  {
   "cell_type": "code",
   "execution_count": 16,
   "id": "bd883775-c62a-434e-bbb7-596a35c9097d",
   "metadata": {},
   "outputs": [
    {
     "data": {
      "text/plain": [
       "Id                                  11\n",
       "ResidentStatus                       1\n",
       "Education1989Revision                0\n",
       "Education2003Revision                3\n",
       "EducationReportingFlag               1\n",
       "MonthOfDeath                         1\n",
       "Sex                                  F\n",
       "AgeType                              1\n",
       "Age                                 79\n",
       "AgeSubstitutionFlag                  0\n",
       "AgeRecode52                         41\n",
       "AgeRecode27                         21\n",
       "AgeRecode12                         10\n",
       "InfantAgeRecode22                    0\n",
       "PlaceOfDeathAndDecedentsStatus       6\n",
       "MaritalStatus                        W\n",
       "DayOfWeekOfDeath                     2\n",
       "CurrentDataYear                   2014\n",
       "InjuryAtWork                         U\n",
       "MannerOfDeath                        7\n",
       "MethodOfDisposition                  C\n",
       "Autopsy                              N\n",
       "ActivityCode                        99\n",
       "PlaceOfInjury                       99\n",
       "Icd10Code                         I350\n",
       "CauseRecode358                     225\n",
       "CauseRecode113                      68\n",
       "InfantCauseRecode130                 0\n",
       "CauseRecode39                       22\n",
       "NumberOfEntityAxisConditions         2\n",
       "NumberOfRecordAxisConditions         2\n",
       "Race                                 1\n",
       "BridgedRaceFlag                      0\n",
       "RaceImputationFlag                   0\n",
       "RaceRecode3                          1\n",
       "RaceRecode5                          1\n",
       "HispanicOrigin                     100\n",
       "HispanicOriginRaceRecode             6\n",
       "Name: 10, dtype: object"
      ]
     },
     "execution_count": 16,
     "metadata": {},
     "output_type": "execute_result"
    }
   ],
   "source": [
    "myDF.iloc[10,]"
   ]
  },
  {
   "cell_type": "code",
   "execution_count": 17,
   "id": "e2b866ef-1fb1-4b55-adcb-6e1146144378",
   "metadata": {},
   "outputs": [],
   "source": [
    "#Part b"
   ]
  },
  {
   "cell_type": "code",
   "execution_count": 18,
   "id": "4ecb589e-2551-43d8-8483-719c798de6fe",
   "metadata": {},
   "outputs": [],
   "source": [
    "#Last 5 rows"
   ]
  },
  {
   "cell_type": "code",
   "execution_count": 19,
   "id": "8bccdf0e-246f-4225-854f-5854453543e8",
   "metadata": {},
   "outputs": [
    {
     "data": {
      "text/html": [
       "<div>\n",
       "<style scoped>\n",
       "    .dataframe tbody tr th:only-of-type {\n",
       "        vertical-align: middle;\n",
       "    }\n",
       "\n",
       "    .dataframe tbody tr th {\n",
       "        vertical-align: top;\n",
       "    }\n",
       "\n",
       "    .dataframe thead th {\n",
       "        text-align: right;\n",
       "    }\n",
       "</style>\n",
       "<table border=\"1\" class=\"dataframe\">\n",
       "  <thead>\n",
       "    <tr style=\"text-align: right;\">\n",
       "      <th></th>\n",
       "      <th>Id</th>\n",
       "      <th>ResidentStatus</th>\n",
       "      <th>Education1989Revision</th>\n",
       "      <th>Education2003Revision</th>\n",
       "      <th>EducationReportingFlag</th>\n",
       "      <th>MonthOfDeath</th>\n",
       "      <th>Sex</th>\n",
       "      <th>AgeType</th>\n",
       "      <th>Age</th>\n",
       "      <th>AgeSubstitutionFlag</th>\n",
       "      <th>...</th>\n",
       "      <th>CauseRecode39</th>\n",
       "      <th>NumberOfEntityAxisConditions</th>\n",
       "      <th>NumberOfRecordAxisConditions</th>\n",
       "      <th>Race</th>\n",
       "      <th>BridgedRaceFlag</th>\n",
       "      <th>RaceImputationFlag</th>\n",
       "      <th>RaceRecode3</th>\n",
       "      <th>RaceRecode5</th>\n",
       "      <th>HispanicOrigin</th>\n",
       "      <th>HispanicOriginRaceRecode</th>\n",
       "    </tr>\n",
       "  </thead>\n",
       "  <tbody>\n",
       "    <tr>\n",
       "      <th>2631166</th>\n",
       "      <td>2631167</td>\n",
       "      <td>3</td>\n",
       "      <td>0</td>\n",
       "      <td>6</td>\n",
       "      <td>1</td>\n",
       "      <td>12</td>\n",
       "      <td>M</td>\n",
       "      <td>1</td>\n",
       "      <td>84</td>\n",
       "      <td>0</td>\n",
       "      <td>...</td>\n",
       "      <td>20</td>\n",
       "      <td>4</td>\n",
       "      <td>4</td>\n",
       "      <td>1</td>\n",
       "      <td>0</td>\n",
       "      <td>0</td>\n",
       "      <td>1</td>\n",
       "      <td>1</td>\n",
       "      <td>100</td>\n",
       "      <td>6</td>\n",
       "    </tr>\n",
       "    <tr>\n",
       "      <th>2631167</th>\n",
       "      <td>2631168</td>\n",
       "      <td>3</td>\n",
       "      <td>0</td>\n",
       "      <td>9</td>\n",
       "      <td>1</td>\n",
       "      <td>12</td>\n",
       "      <td>F</td>\n",
       "      <td>1</td>\n",
       "      <td>74</td>\n",
       "      <td>0</td>\n",
       "      <td>...</td>\n",
       "      <td>21</td>\n",
       "      <td>2</td>\n",
       "      <td>2</td>\n",
       "      <td>1</td>\n",
       "      <td>0</td>\n",
       "      <td>1</td>\n",
       "      <td>1</td>\n",
       "      <td>1</td>\n",
       "      <td>998</td>\n",
       "      <td>9</td>\n",
       "    </tr>\n",
       "    <tr>\n",
       "      <th>2631168</th>\n",
       "      <td>2631169</td>\n",
       "      <td>3</td>\n",
       "      <td>0</td>\n",
       "      <td>1</td>\n",
       "      <td>1</td>\n",
       "      <td>12</td>\n",
       "      <td>M</td>\n",
       "      <td>6</td>\n",
       "      <td>7</td>\n",
       "      <td>0</td>\n",
       "      <td>...</td>\n",
       "      <td>33</td>\n",
       "      <td>2</td>\n",
       "      <td>1</td>\n",
       "      <td>1</td>\n",
       "      <td>0</td>\n",
       "      <td>1</td>\n",
       "      <td>1</td>\n",
       "      <td>1</td>\n",
       "      <td>998</td>\n",
       "      <td>9</td>\n",
       "    </tr>\n",
       "    <tr>\n",
       "      <th>2631169</th>\n",
       "      <td>2631170</td>\n",
       "      <td>4</td>\n",
       "      <td>0</td>\n",
       "      <td>9</td>\n",
       "      <td>1</td>\n",
       "      <td>2</td>\n",
       "      <td>M</td>\n",
       "      <td>1</td>\n",
       "      <td>49</td>\n",
       "      <td>0</td>\n",
       "      <td>...</td>\n",
       "      <td>21</td>\n",
       "      <td>5</td>\n",
       "      <td>5</td>\n",
       "      <td>2</td>\n",
       "      <td>0</td>\n",
       "      <td>0</td>\n",
       "      <td>3</td>\n",
       "      <td>2</td>\n",
       "      <td>998</td>\n",
       "      <td>9</td>\n",
       "    </tr>\n",
       "    <tr>\n",
       "      <th>2631170</th>\n",
       "      <td>2631171</td>\n",
       "      <td>3</td>\n",
       "      <td>0</td>\n",
       "      <td>1</td>\n",
       "      <td>1</td>\n",
       "      <td>5</td>\n",
       "      <td>M</td>\n",
       "      <td>6</td>\n",
       "      <td>39</td>\n",
       "      <td>0</td>\n",
       "      <td>...</td>\n",
       "      <td>33</td>\n",
       "      <td>2</td>\n",
       "      <td>1</td>\n",
       "      <td>2</td>\n",
       "      <td>0</td>\n",
       "      <td>0</td>\n",
       "      <td>3</td>\n",
       "      <td>2</td>\n",
       "      <td>100</td>\n",
       "      <td>7</td>\n",
       "    </tr>\n",
       "  </tbody>\n",
       "</table>\n",
       "<p>5 rows × 38 columns</p>\n",
       "</div>"
      ],
      "text/plain": [
       "              Id  ResidentStatus  Education1989Revision  \\\n",
       "2631166  2631167               3                      0   \n",
       "2631167  2631168               3                      0   \n",
       "2631168  2631169               3                      0   \n",
       "2631169  2631170               4                      0   \n",
       "2631170  2631171               3                      0   \n",
       "\n",
       "         Education2003Revision  EducationReportingFlag  MonthOfDeath Sex  \\\n",
       "2631166                      6                       1            12   M   \n",
       "2631167                      9                       1            12   F   \n",
       "2631168                      1                       1            12   M   \n",
       "2631169                      9                       1             2   M   \n",
       "2631170                      1                       1             5   M   \n",
       "\n",
       "         AgeType  Age  AgeSubstitutionFlag  ...  CauseRecode39  \\\n",
       "2631166        1   84                    0  ...             20   \n",
       "2631167        1   74                    0  ...             21   \n",
       "2631168        6    7                    0  ...             33   \n",
       "2631169        1   49                    0  ...             21   \n",
       "2631170        6   39                    0  ...             33   \n",
       "\n",
       "         NumberOfEntityAxisConditions  NumberOfRecordAxisConditions  Race  \\\n",
       "2631166                             4                             4     1   \n",
       "2631167                             2                             2     1   \n",
       "2631168                             2                             1     1   \n",
       "2631169                             5                             5     2   \n",
       "2631170                             2                             1     2   \n",
       "\n",
       "         BridgedRaceFlag RaceImputationFlag  RaceRecode3  RaceRecode5  \\\n",
       "2631166                0                  0            1            1   \n",
       "2631167                0                  1            1            1   \n",
       "2631168                0                  1            1            1   \n",
       "2631169                0                  0            3            2   \n",
       "2631170                0                  0            3            2   \n",
       "\n",
       "        HispanicOrigin  HispanicOriginRaceRecode  \n",
       "2631166            100                         6  \n",
       "2631167            998                         9  \n",
       "2631168            998                         9  \n",
       "2631169            998                         9  \n",
       "2631170            100                         7  \n",
       "\n",
       "[5 rows x 38 columns]"
      ]
     },
     "execution_count": 19,
     "metadata": {},
     "output_type": "execute_result"
    }
   ],
   "source": [
    "myDF.tail()"
   ]
  },
  {
   "cell_type": "code",
   "execution_count": 20,
   "id": "ac76e819-1af1-4a6c-b09c-8065e2789394",
   "metadata": {},
   "outputs": [],
   "source": [
    "#Part c"
   ]
  },
  {
   "cell_type": "code",
   "execution_count": 21,
   "id": "3861d0b1-0128-40c7-896c-6cda9b33d0e8",
   "metadata": {},
   "outputs": [],
   "source": [
    "#Number of columns and rows"
   ]
  },
  {
   "cell_type": "code",
   "execution_count": 22,
   "id": "f4055be1-4718-4d4b-b128-2bb09fd05a29",
   "metadata": {},
   "outputs": [
    {
     "data": {
      "text/plain": [
       "(2631171, 38)"
      ]
     },
     "execution_count": 22,
     "metadata": {},
     "output_type": "execute_result"
    }
   ],
   "source": [
    "myDF.shape"
   ]
  },
  {
   "cell_type": "code",
   "execution_count": 23,
   "id": "d437fbf1-ff41-4de5-8402-1e21ecf645a0",
   "metadata": {},
   "outputs": [],
   "source": [
    "#Part d"
   ]
  },
  {
   "cell_type": "code",
   "execution_count": 24,
   "id": "5ae59453-b26e-4144-9795-38909b60e61c",
   "metadata": {},
   "outputs": [],
   "source": [
    "#Column names"
   ]
  },
  {
   "cell_type": "code",
   "execution_count": 25,
   "id": "a195ada9-0b77-4ab6-a44b-3cbb41970e46",
   "metadata": {},
   "outputs": [
    {
     "data": {
      "text/plain": [
       "Index(['Id', 'ResidentStatus', 'Education1989Revision',\n",
       "       'Education2003Revision', 'EducationReportingFlag', 'MonthOfDeath',\n",
       "       'Sex', 'AgeType', 'Age', 'AgeSubstitutionFlag', 'AgeRecode52',\n",
       "       'AgeRecode27', 'AgeRecode12', 'InfantAgeRecode22',\n",
       "       'PlaceOfDeathAndDecedentsStatus', 'MaritalStatus', 'DayOfWeekOfDeath',\n",
       "       'CurrentDataYear', 'InjuryAtWork', 'MannerOfDeath',\n",
       "       'MethodOfDisposition', 'Autopsy', 'ActivityCode', 'PlaceOfInjury',\n",
       "       'Icd10Code', 'CauseRecode358', 'CauseRecode113', 'InfantCauseRecode130',\n",
       "       'CauseRecode39', 'NumberOfEntityAxisConditions',\n",
       "       'NumberOfRecordAxisConditions', 'Race', 'BridgedRaceFlag',\n",
       "       'RaceImputationFlag', 'RaceRecode3', 'RaceRecode5', 'HispanicOrigin',\n",
       "       'HispanicOriginRaceRecode'],\n",
       "      dtype='object')"
      ]
     },
     "execution_count": 25,
     "metadata": {},
     "output_type": "execute_result"
    }
   ],
   "source": [
    "myDF.columns"
   ]
  },
  {
   "cell_type": "markdown",
   "id": "14dc22d4-ddc3-41cc-a91a-cb0025bc0c80",
   "metadata": {},
   "source": [
    "Markdown notes and sentences and analysis written here."
   ]
  },
  {
   "cell_type": "markdown",
   "id": "8e586edd-ff26-4ce2-8f6b-2424b26f2929",
   "metadata": {},
   "source": [
    "## Question 3"
   ]
  },
  {
   "cell_type": "code",
   "execution_count": 26,
   "id": "bbe0f40d-9655-4653-9ca8-886bdb61cb91",
   "metadata": {},
   "outputs": [],
   "source": [
    "#Part a "
   ]
  },
  {
   "cell_type": "code",
   "execution_count": 27,
   "id": "0dbc81c0-5ac6-47b1-ad17-c3fe8db13bc1",
   "metadata": {},
   "outputs": [],
   "source": [
    "#Number of people above age 52"
   ]
  },
  {
   "cell_type": "code",
   "execution_count": 28,
   "id": "8174d665-cf8b-499d-9795-f6d704a25e58",
   "metadata": {},
   "outputs": [
    {
     "data": {
      "text/plain": [
       "2325365"
      ]
     },
     "execution_count": 28,
     "metadata": {},
     "output_type": "execute_result"
    }
   ],
   "source": [
    "len(myDF['Age'][myDF['Age']>52])"
   ]
  },
  {
   "cell_type": "code",
   "execution_count": 29,
   "id": "fe4bf55f-97b2-45a4-8a3a-a744c5923751",
   "metadata": {},
   "outputs": [],
   "source": [
    "#Part b"
   ]
  },
  {
   "cell_type": "code",
   "execution_count": 30,
   "id": "d95f4348-b56c-4420-a77d-7aba30401493",
   "metadata": {},
   "outputs": [],
   "source": [
    "#Number of males vs females"
   ]
  },
  {
   "cell_type": "code",
   "execution_count": 31,
   "id": "b8c73030-0506-4c7b-a8ab-18cf7f8b53cb",
   "metadata": {},
   "outputs": [
    {
     "data": {
      "text/plain": [
       "M    1331461\n",
       "F    1299710\n",
       "Name: Sex, dtype: int64"
      ]
     },
     "execution_count": 31,
     "metadata": {},
     "output_type": "execute_result"
    }
   ],
   "source": [
    "myDF['Sex'].value_counts()"
   ]
  },
  {
   "cell_type": "code",
   "execution_count": 32,
   "id": "e6dd80fb-91df-4be3-b8d1-6aa6634426bc",
   "metadata": {},
   "outputs": [],
   "source": [
    "#Part c"
   ]
  },
  {
   "cell_type": "code",
   "execution_count": 33,
   "id": "ea2a8277-8281-4bbc-ad3b-56e0411886b9",
   "metadata": {},
   "outputs": [],
   "source": [
    "#Number of females above 70"
   ]
  },
  {
   "cell_type": "code",
   "execution_count": 34,
   "id": "1f1f6822-da74-4a25-842d-6d72e2bc5d0b",
   "metadata": {},
   "outputs": [
    {
     "data": {
      "text/plain": [
       "915750"
      ]
     },
     "execution_count": 34,
     "metadata": {},
     "output_type": "execute_result"
    }
   ],
   "source": [
    "len(myDF['Age'][(myDF['Age']>70) & (myDF['Sex'] == 'F')])"
   ]
  },
  {
   "cell_type": "markdown",
   "id": "47c6229f-35f7-400c-8366-c442baa5cf47",
   "metadata": {},
   "source": [
    "Markdown notes and sentences and analysis written here."
   ]
  },
  {
   "cell_type": "markdown",
   "id": "da22f29c-d245-4d2b-9fc1-ca14cb6087d9",
   "metadata": {},
   "source": [
    "## Question 4"
   ]
  },
  {
   "cell_type": "code",
   "execution_count": 35,
   "id": "8cffc767-d1c8-4d64-b7dc-f0d2ee8a80d1",
   "metadata": {},
   "outputs": [],
   "source": [
    "#Import package"
   ]
  },
  {
   "cell_type": "code",
   "execution_count": 36,
   "id": "5ea5258d-0c26-4e6a-b2a4-dc3797a25b28",
   "metadata": {},
   "outputs": [],
   "source": [
    "import matplotlib.pyplot as plt"
   ]
  },
  {
   "cell_type": "code",
   "execution_count": 37,
   "id": "28a888ad-5c5f-4c45-887c-491894a8a79e",
   "metadata": {},
   "outputs": [],
   "source": [
    "#Part a "
   ]
  },
  {
   "cell_type": "code",
   "execution_count": 38,
   "id": "940a4579-7afc-419d-820d-67f91a8dbd84",
   "metadata": {},
   "outputs": [],
   "source": [
    "#Number of people with different MaritalStatus"
   ]
  },
  {
   "cell_type": "code",
   "execution_count": 39,
   "id": "a36e5c88-4cb2-45d0-b51f-d13b05131c20",
   "metadata": {},
   "outputs": [],
   "source": [
    "mydata = myDF['MaritalStatus'].value_counts()"
   ]
  },
  {
   "cell_type": "code",
   "execution_count": 40,
   "id": "f72a2dd6-fb2a-4900-a43c-204015ec8a58",
   "metadata": {},
   "outputs": [],
   "source": [
    "#Bar plot of data"
   ]
  },
  {
   "cell_type": "code",
   "execution_count": 41,
   "id": "3af970bc-ed60-439d-8c46-1271e139bfe1",
   "metadata": {},
   "outputs": [
    {
     "data": {
      "text/plain": [
       "<BarContainer object of 5 artists>"
      ]
     },
     "execution_count": 41,
     "metadata": {},
     "output_type": "execute_result"
    },
    {
     "data": {
      "image/png": "[encoded data removed]",
      "text/plain": [
       "<Figure size 432x288 with 1 Axes>"
      ]
     },
     "metadata": {
      "needs_background": "light"
     },
     "output_type": "display_data"
    }
   ],
   "source": [
    "plt.bar(mydata.index,mydata)"
   ]
  },
  {
   "cell_type": "code",
   "execution_count": 42,
   "id": "8da6a8f3-2b88-45f9-a67e-fed4bac74c0e",
   "metadata": {},
   "outputs": [],
   "source": [
    "#Part  b"
   ]
  },
  {
   "cell_type": "code",
   "execution_count": 43,
   "id": "51471feb-682c-42be-8302-c19da82d2d05",
   "metadata": {},
   "outputs": [],
   "source": [
    "#Age of people at their death"
   ]
  },
  {
   "cell_type": "code",
   "execution_count": 44,
   "id": "a2bd18a5-41f5-4576-b0c6-ec47968af944",
   "metadata": {},
   "outputs": [],
   "source": [
    "mydata = myDF['Age'][myDF['Age']<999].value_counts()"
   ]
  },
  {
   "cell_type": "code",
   "execution_count": 45,
   "id": "8f4987b4-6a30-4510-9bdf-d58a66404233",
   "metadata": {},
   "outputs": [],
   "source": [
    "#Bar plot of data"
   ]
  },
  {
   "cell_type": "code",
   "execution_count": 46,
   "id": "313db45e-d578-44f3-80b5-0543903cf98e",
   "metadata": {},
   "outputs": [
    {
     "data": {
      "text/plain": [
       "<BarContainer object of 116 artists>"
      ]
     },
     "execution_count": 46,
     "metadata": {},
     "output_type": "execute_result"
    },
    {
     "data": {
      "image/png": "[encoded data removed]",
      "text/plain": [
       "<Figure size 432x288 with 1 Axes>"
      ]
     },
     "metadata": {
      "needs_background": "light"
     },
     "output_type": "display_data"
    }
   ],
   "source": [
    "plt.bar(mydata.index,mydata)"
   ]
  },
  {
   "cell_type": "markdown",
   "id": "0d552245-b4d6-474a-9cc9-fa7b8e674d55",
   "metadata": {},
   "source": [
    "Markdown notes and sentences and analysis written here."
   ]
  },
  {
   "cell_type": "markdown",
   "id": "88c9cdac-3e92-498f-83fa-e089bfc44ac8",
   "metadata": {},
   "source": [
    "## Question 5"
   ]
  },
  {
   "cell_type": "code",
   "execution_count": 47,
   "id": "d370d7c9-06db-42b9-b75f-240481a5c491",
   "metadata": {},
   "outputs": [],
   "source": [
    "#Number of people with different months of death"
   ]
  },
  {
   "cell_type": "code",
   "execution_count": 48,
   "id": "7614a7a9-2e12-4546-b703-62f254731f84",
   "metadata": {},
   "outputs": [],
   "source": [
    "mydata = myDF['MonthOfDeath'].value_counts()"
   ]
  },
  {
   "cell_type": "code",
   "execution_count": 49,
   "id": "92f3fbdb-c38a-422f-8bb1-83254feac376",
   "metadata": {},
   "outputs": [],
   "source": [
    "#Bar plot of data"
   ]
  },
  {
   "cell_type": "code",
   "execution_count": 50,
   "id": "6decf899-1b0c-4821-b397-6b3d73f4aaee",
   "metadata": {},
   "outputs": [
    {
     "data": {
      "text/plain": [
       "<BarContainer object of 12 artists>"
      ]
     },
     "execution_count": 50,
     "metadata": {},
     "output_type": "execute_result"
    },
    {
     "data": {
      "image/png": "[encoded data removed]",
      "text/plain": [
       "<Figure size 432x288 with 1 Axes>"
      ]
     },
     "metadata": {
      "needs_background": "light"
     },
     "output_type": "display_data"
    }
   ],
   "source": [
    "plt.bar(mydata.index,mydata)"
   ]
  },
  {
   "cell_type": "markdown",
   "id": "9fbf00fb-2418-460f-ae94-2a32b0c28952",
   "metadata": {},
   "source": [
    "Markdown notes and sentences and analysis written here."
   ]
  },
  {
   "cell_type": "markdown",
   "id": "f76442d6-d02e-4f26-b9d6-c3183e1d6929",
   "metadata": {},
   "source": [
    "## Pledge\n",
    "\n",
    "By submitting this work I hereby pledge that this is my own, personal work. I've acknowledged in the designated place at the top of this file all sources that I used to complete said work, including but not limited to: online resources, books, and electronic communications. I've noted all collaboration with fellow students and/or TA's. I did not copy or plagiarize another's work.\n",
    "\n",
    "> As a Boilermaker pursuing academic excellence, I pledge to be honest and true in all that I do. Accountable together – We are Purdue."
   ]
  }
 ],
 "metadata": {
  "kernelspec": {
   "display_name": "f2022-s2023",
   "language": "python",
   "name": "f2022-s2023"
  },
  "language_info": {
   "codemirror_mode": {
    "name": "ipython",
    "version": 3
   },
   "file_extension": ".py",
   "mimetype": "text/x-python",
   "name": "python",
   "nbconvert_exporter": "python",
   "pygments_lexer": "ipython3",
   "version": "3.10.7"
  }
 },
 "nbformat": 4,
 "nbformat_minor": 5
}
